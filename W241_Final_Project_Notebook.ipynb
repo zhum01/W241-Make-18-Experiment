{
 "cells": [
  {
   "cell_type": "code",
   "execution_count": 3,
   "metadata": {},
   "outputs": [
    {
     "name": "stderr",
     "output_type": "stream",
     "text": [
      "Warning message in data.table::fread(input = paste(loadDir, \"Make 18_full_AMT.csv\", :\n",
      "\"Detected 30 column names but the data has 28 columns. Filling rows automatically. Set fill=TRUE explicitly to avoid this warning.\""
     ]
    }
   ],
   "source": [
    "# load packages and data\n",
    "library(data.table) \n",
    "library(ggplot2)\n",
    "library(dplyr) # if not installed locally, in command prompt use \"conda install -c r r-dplyr\"\n",
    "library(tidyr)\n",
    "library(stargazer)\n",
    "\n",
    "# change deafult plot sizes\n",
    "options(repr.plot.width=4, repr.plot.height=3)\n",
    "\n",
    "# load data\n",
    "loadDir = './Data/' # set directory where data will be loaded from\n",
    "loadFName = 'Make 18_full.csv' # set file name of Qualtrics csv\n",
    "rawData <- data.table::fread(input = paste(loadDir, loadFName, sep=''))\n",
    "\n",
    "# also load in data from AMT to match MIDs (to download: on AMT site > Review Results > Download CSV)\n",
    "amtIDs = data.table::fread(input = paste(loadDir, 'Make 18_full_AMT.csv' , sep=''), select='WorkerId') \n",
    "\n",
    "dataStartRow = 75 # set the row number when full experiment starts (used to exclude MIDs from past pilot runs)\n"
   ]
  },
  {
   "cell_type": "code",
   "execution_count": 3,
   "metadata": {},
   "outputs": [
    {
     "data": {
      "text/html": [
       "<table>\n",
       "<thead><tr><th scope=col>StartDate</th><th scope=col>EndDate</th><th scope=col>Status</th><th scope=col>IPAddress</th><th scope=col>Progress</th><th scope=col>Duration (in seconds)</th><th scope=col>Finished</th><th scope=col>RecordedDate</th><th scope=col>ResponseId</th><th scope=col>RecipientLastName</th><th scope=col>...</th><th scope=col>q1_txt</th><th scope=col>q2_txt</th><th scope=col>q3_txt</th><th scope=col>q4_txt</th><th scope=col>q5_txt</th><th scope=col>surveycode</th><th scope=col>MID</th><th scope=col>p1_txt</th><th scope=col>p2_txt</th><th scope=col>Random</th></tr></thead>\n",
       "<tbody>\n",
       "\t<tr><td>Start Date                                                     </td><td>End Date                                                       </td><td>Response Type                                                  </td><td>IP Address                                                     </td><td>Progress                                                       </td><td>Duration (in seconds)                                          </td><td>Finished                                                       </td><td>Recorded Date                                                  </td><td>Response ID                                                    </td><td>Recipient Last Name                                            </td><td>...                                                            </td><td>q1_txt                                                         </td><td>q2_txt                                                         </td><td>q3_txt                                                         </td><td>q4_txt                                                         </td><td>q5_txt                                                         </td><td>surveycode                                                     </td><td>MID                                                            </td><td>p1_txt                                                         </td><td>p2_txt                                                         </td><td>Random                                                         </td></tr>\n",
       "\t<tr><td>{\"\"ImportId\"\":\"\"startDate\"\",\"\"timeZone\"\":\"\"America/Denver\"\"}   </td><td>{\"\"ImportId\"\":\"\"endDate\"\",\"\"timeZone\"\":\"\"America/Denver\"\"}     </td><td>{\"\"ImportId\"\":\"\"status\"\"}                                      </td><td>{\"\"ImportId\"\":\"\"ipAddress\"\"}                                   </td><td>{\"\"ImportId\"\":\"\"progress\"\"}                                    </td><td>{\"\"ImportId\"\":\"\"duration\"\"}                                    </td><td>{\"\"ImportId\"\":\"\"finished\"\"}                                    </td><td>{\"\"ImportId\"\":\"\"recordedDate\"\",\"\"timeZone\"\":\"\"America/Denver\"\"}</td><td>{\"\"ImportId\"\":\"\"_recordId\"\"}                                   </td><td>{\"\"ImportId\"\":\"\"recipientLastName\"\"}                           </td><td>...                                                            </td><td>{\"\"ImportId\"\":\"\"q1_txt\"\"}                                      </td><td>{\"\"ImportId\"\":\"\"q2_txt\"\"}                                      </td><td>{\"\"ImportId\"\":\"\"q3_txt\"\"}                                      </td><td>{\"\"ImportId\"\":\"\"q4_txt\"\"}                                      </td><td>{\"\"ImportId\"\":\"\"q5_txt\"\"}                                      </td><td>{\"\"ImportId\"\":\"\"surveycode\"\"}                                  </td><td>{\"\"ImportId\"\":\"\"MID\"\"}                                         </td><td>{\"\"ImportId\"\":\"\"p1_txt\"\"}                                      </td><td>{\"\"ImportId\"\":\"\"p2_txt\"\"}                                      </td><td>{\"\"ImportId\"\":\"\"Random\"\"}                                      </td></tr>\n",
       "\t<tr><td>2021-07-09 22:36:19                                            </td><td>2021-07-09 22:37:51                                            </td><td>Survey Preview                                                 </td><td>                                                               </td><td>100                                                            </td><td>91                                                             </td><td>True                                                           </td><td>2021-07-09 22:37:54                                            </td><td>R_2YhLYlwEGxfIgCh                                              </td><td>                                                               </td><td>...                                                            </td><td>NaN(5+7)*(10-8)                                                </td><td>NaN(11+13)*(6-5)                                               </td><td>NaN3+7*2                                                       </td><td>NaN10+8-7-5                                                    </td><td>NaN2+3+5+8                                                     </td><td>9348                                                           </td><td>                                                               </td><td>                                                               </td><td>                                                               </td><td>2                                                              </td></tr>\n",
       "\t<tr><td>2021-07-09 22:39:36                                            </td><td>2021-07-09 22:53:16                                            </td><td>IP Address                                                     </td><td>157.51.62.60                                                   </td><td>100                                                            </td><td>820                                                            </td><td>True                                                           </td><td>2021-07-09 22:53:17                                            </td><td>R_2e4IILDq5qEipzH                                              </td><td>                                                               </td><td>...                                                            </td><td>NaN10+8/(6-7)                                                  </td><td>NaN13+5                                                        </td><td>NaN7*2+(1*4)                                                   </td><td>                                                               </td><td>NaN8*3-(5+7)                                                   </td><td>1441                                                           </td><td>A33Z442WJQ8ADC                                                 </td><td>                                                               </td><td>                                                               </td><td>2                                                              </td></tr>\n",
       "\t<tr><td>2021-07-09 22:38:07                                            </td><td>2021-07-09 22:54:39                                            </td><td>IP Address                                                     </td><td>201.47.22.214                                                  </td><td>100                                                            </td><td>992                                                            </td><td>True                                                           </td><td>2021-07-09 22:54:40                                            </td><td>R_2U5fS9EqxPKlcze                                              </td><td>                                                               </td><td>...                                                            </td><td>NaN3*6*(8-7)                                                   </td><td>NaN5*6*(11-13)                                                 </td><td>NaN2*7*(4-1)                                                   </td><td>NaN3*7*(7-2)                                                   </td><td>~+3*8*(2-5)                                                    </td><td>7876                                                           </td><td>A2825I2XO6KZEP                                                 </td><td>                                                               </td><td>                                                               </td><td>1                                                              </td></tr>\n",
       "\t<tr><td>2021-07-09 22:54:07                                            </td><td>2021-07-09 23:00:33                                            </td><td>IP Address                                                     </td><td>192.154.206.9                                                  </td><td>100                                                            </td><td>385                                                            </td><td>True                                                           </td><td>2021-07-09 23:00:34                                            </td><td>R_1k0TzyF95z6apGi                                              </td><td>                                                               </td><td>...                                                            </td><td>NaN33.6                                                        </td><td>NaN11+13+5/6                                                   </td><td>NaN1/2*4*7                                                     </td><td>NaN7/3*7*2                                                     </td><td>NaN2/8*3+5                                                     </td><td>9853                                                           </td><td>A35T79LLCN429G                                                 </td><td>                                                               </td><td>                                                               </td><td>2                                                              </td></tr>\n",
       "</tbody>\n",
       "</table>\n"
      ],
      "text/latex": [
       "\\begin{tabular}{r|lllllllllllllllllllllllllllllllllllllllllllllllllllllllllllllllllllllllllllllllllllllllllllllllllllllllllllllllllllllllllllllllllllllllllllllllllllllllllllllllllllllllllllllllllll}\n",
       " StartDate & EndDate & Status & IPAddress & Progress & Duration (in seconds) & Finished & RecordedDate & ResponseId & RecipientLastName & ... & q1\\_txt & q2\\_txt & q3\\_txt & q4\\_txt & q5\\_txt & surveycode & MID & p1\\_txt & p2\\_txt & Random\\\\\n",
       "\\hline\n",
       "\t Start Date                                                      & End Date                                                        & Response Type                                                   & IP Address                                                      & Progress                                                        & Duration (in seconds)                                           & Finished                                                        & Recorded Date                                                   & Response ID                                                     & Recipient Last Name                                             & ...                                                             & q1\\_txt                                                        & q2\\_txt                                                        & q3\\_txt                                                        & q4\\_txt                                                        & q5\\_txt                                                        & surveycode                                                      & MID                                                             & p1\\_txt                                                        & p2\\_txt                                                        & Random                                                         \\\\\n",
       "\t \\{\"\"ImportId\"\":\"\"startDate\"\",\"\"timeZone\"\":\"\"America/Denver\"\"\\}    & \\{\"\"ImportId\"\":\"\"endDate\"\",\"\"timeZone\"\":\"\"America/Denver\"\"\\}      & \\{\"\"ImportId\"\":\"\"status\"\"\\}                                       & \\{\"\"ImportId\"\":\"\"ipAddress\"\"\\}                                    & \\{\"\"ImportId\"\":\"\"progress\"\"\\}                                     & \\{\"\"ImportId\"\":\"\"duration\"\"\\}                                     & \\{\"\"ImportId\"\":\"\"finished\"\"\\}                                     & \\{\"\"ImportId\"\":\"\"recordedDate\"\",\"\"timeZone\"\":\"\"America/Denver\"\"\\} & \\{\"\"ImportId\"\":\"\"\\_recordId\"\"\\}                                  & \\{\"\"ImportId\"\":\"\"recipientLastName\"\"\\}                            & ...                                                                 & \\{\"\"ImportId\"\":\"\"q1\\_txt\"\"\\}                                     & \\{\"\"ImportId\"\":\"\"q2\\_txt\"\"\\}                                     & \\{\"\"ImportId\"\":\"\"q3\\_txt\"\"\\}                                     & \\{\"\"ImportId\"\":\"\"q4\\_txt\"\"\\}                                     & \\{\"\"ImportId\"\":\"\"q5\\_txt\"\"\\}                                     & \\{\"\"ImportId\"\":\"\"surveycode\"\"\\}                                   & \\{\"\"ImportId\"\":\"\"MID\"\"\\}                                          & \\{\"\"ImportId\"\":\"\"p1\\_txt\"\"\\}                                     & \\{\"\"ImportId\"\":\"\"p2\\_txt\"\"\\}                                     & \\{\"\"ImportId\"\":\"\"Random\"\"\\}                                      \\\\\n",
       "\t 2021-07-09 22:36:19                                             & 2021-07-09 22:37:51                                             & Survey Preview                                                  &                                                                 & 100                                                             & 91                                                              & True                                                            & 2021-07-09 22:37:54                                             & R\\_2YhLYlwEGxfIgCh                                             &                                                                 & ...                                                             & NaN(5+7)*(10-8)                                                 & NaN(11+13)*(6-5)                                                & NaN3+7*2                                                        & NaN10+8-7-5                                                     & NaN2+3+5+8                                                      & 9348                                                            &                                                                 &                                                                 &                                                                 & 2                                                              \\\\\n",
       "\t 2021-07-09 22:39:36                                             & 2021-07-09 22:53:16                                             & IP Address                                                      & 157.51.62.60                                                    & 100                                                             & 820                                                             & True                                                            & 2021-07-09 22:53:17                                             & R\\_2e4IILDq5qEipzH                                             &                                                                 & ...                                                             & NaN10+8/(6-7)                                                   & NaN13+5                                                         & NaN7*2+(1*4)                                                    &                                                                 & NaN8*3-(5+7)                                                    & 1441                                                            & A33Z442WJQ8ADC                                                  &                                                                 &                                                                 & 2                                                              \\\\\n",
       "\t 2021-07-09 22:38:07                                             & 2021-07-09 22:54:39                                             & IP Address                                                      & 201.47.22.214                                                   & 100                                                             & 992                                                             & True                                                            & 2021-07-09 22:54:40                                             & R\\_2U5fS9EqxPKlcze                                             &                                                                 & ...                                                             & NaN3*6*(8-7)                                                    & NaN5*6*(11-13)                                                  & NaN2*7*(4-1)                                                    & NaN3*7*(7-2)                                                    & \\textasciitilde{}+3*8*(2-5)                                    & 7876                                                            & A2825I2XO6KZEP                                                  &                                                                 &                                                                 & 1                                                              \\\\\n",
       "\t 2021-07-09 22:54:07                                             & 2021-07-09 23:00:33                                             & IP Address                                                      & 192.154.206.9                                                   & 100                                                             & 385                                                             & True                                                            & 2021-07-09 23:00:34                                             & R\\_1k0TzyF95z6apGi                                             &                                                                 & ...                                                             & NaN33.6                                                         & NaN11+13+5/6                                                    & NaN1/2*4*7                                                      & NaN7/3*7*2                                                      & NaN2/8*3+5                                                      & 9853                                                            & A35T79LLCN429G                                                  &                                                                 &                                                                 & 2                                                              \\\\\n",
       "\\end{tabular}\n"
      ],
      "text/markdown": [
       "\n",
       "| StartDate | EndDate | Status | IPAddress | Progress | Duration (in seconds) | Finished | RecordedDate | ResponseId | RecipientLastName | ... | q1_txt | q2_txt | q3_txt | q4_txt | q5_txt | surveycode | MID | p1_txt | p2_txt | Random |\n",
       "|---|---|---|---|---|---|---|---|---|---|---|---|---|---|---|---|---|---|---|---|---|\n",
       "| Start Date                                                      | End Date                                                        | Response Type                                                   | IP Address                                                      | Progress                                                        | Duration (in seconds)                                           | Finished                                                        | Recorded Date                                                   | Response ID                                                     | Recipient Last Name                                             | ...                                                             | q1_txt                                                          | q2_txt                                                          | q3_txt                                                          | q4_txt                                                          | q5_txt                                                          | surveycode                                                      | MID                                                             | p1_txt                                                          | p2_txt                                                          | Random                                                          |\n",
       "| {\"\"ImportId\"\":\"\"startDate\"\",\"\"timeZone\"\":\"\"America/Denver\"\"}    | {\"\"ImportId\"\":\"\"endDate\"\",\"\"timeZone\"\":\"\"America/Denver\"\"}      | {\"\"ImportId\"\":\"\"status\"\"}                                       | {\"\"ImportId\"\":\"\"ipAddress\"\"}                                    | {\"\"ImportId\"\":\"\"progress\"\"}                                     | {\"\"ImportId\"\":\"\"duration\"\"}                                     | {\"\"ImportId\"\":\"\"finished\"\"}                                     | {\"\"ImportId\"\":\"\"recordedDate\"\",\"\"timeZone\"\":\"\"America/Denver\"\"} | {\"\"ImportId\"\":\"\"_recordId\"\"}                                    | {\"\"ImportId\"\":\"\"recipientLastName\"\"}                            | ...                                                             | {\"\"ImportId\"\":\"\"q1_txt\"\"}                                       | {\"\"ImportId\"\":\"\"q2_txt\"\"}                                       | {\"\"ImportId\"\":\"\"q3_txt\"\"}                                       | {\"\"ImportId\"\":\"\"q4_txt\"\"}                                       | {\"\"ImportId\"\":\"\"q5_txt\"\"}                                       | {\"\"ImportId\"\":\"\"surveycode\"\"}                                   | {\"\"ImportId\"\":\"\"MID\"\"}                                          | {\"\"ImportId\"\":\"\"p1_txt\"\"}                                       | {\"\"ImportId\"\":\"\"p2_txt\"\"}                                       | {\"\"ImportId\"\":\"\"Random\"\"}                                       |\n",
       "| 2021-07-09 22:36:19                                             | 2021-07-09 22:37:51                                             | Survey Preview                                                  |                                                                 | 100                                                             | 91                                                              | True                                                            | 2021-07-09 22:37:54                                             | R_2YhLYlwEGxfIgCh                                               |                                                                 | ...                                                             | NaN(5+7)*(10-8)                                                 | NaN(11+13)*(6-5)                                                | NaN3+7*2                                                        | NaN10+8-7-5                                                     | NaN2+3+5+8                                                      | 9348                                                            |                                                                 |                                                                 |                                                                 | 2                                                               |\n",
       "| 2021-07-09 22:39:36                                             | 2021-07-09 22:53:16                                             | IP Address                                                      | 157.51.62.60                                                    | 100                                                             | 820                                                             | True                                                            | 2021-07-09 22:53:17                                             | R_2e4IILDq5qEipzH                                               |                                                                 | ...                                                             | NaN10+8/(6-7)                                                   | NaN13+5                                                         | NaN7*2+(1*4)                                                    |                                                                 | NaN8*3-(5+7)                                                    | 1441                                                            | A33Z442WJQ8ADC                                                  |                                                                 |                                                                 | 2                                                               |\n",
       "| 2021-07-09 22:38:07                                             | 2021-07-09 22:54:39                                             | IP Address                                                      | 201.47.22.214                                                   | 100                                                             | 992                                                             | True                                                            | 2021-07-09 22:54:40                                             | R_2U5fS9EqxPKlcze                                               |                                                                 | ...                                                             | NaN3*6*(8-7)                                                    | NaN5*6*(11-13)                                                  | NaN2*7*(4-1)                                                    | NaN3*7*(7-2)                                                    | ~+3*8*(2-5)                                                     | 7876                                                            | A2825I2XO6KZEP                                                  |                                                                 |                                                                 | 1                                                               |\n",
       "| 2021-07-09 22:54:07                                             | 2021-07-09 23:00:33                                             | IP Address                                                      | 192.154.206.9                                                   | 100                                                             | 385                                                             | True                                                            | 2021-07-09 23:00:34                                             | R_1k0TzyF95z6apGi                                               |                                                                 | ...                                                             | NaN33.6                                                         | NaN11+13+5/6                                                    | NaN1/2*4*7                                                      | NaN7/3*7*2                                                      | NaN2/8*3+5                                                      | 9853                                                            | A35T79LLCN429G                                                  |                                                                 |                                                                 | 2                                                               |\n",
       "\n"
      ],
      "text/plain": [
       "  StartDate                                                   \n",
       "1 Start Date                                                  \n",
       "2 {\"\"ImportId\"\":\"\"startDate\"\",\"\"timeZone\"\":\"\"America/Denver\"\"}\n",
       "3 2021-07-09 22:36:19                                         \n",
       "4 2021-07-09 22:39:36                                         \n",
       "5 2021-07-09 22:38:07                                         \n",
       "6 2021-07-09 22:54:07                                         \n",
       "  EndDate                                                   \n",
       "1 End Date                                                  \n",
       "2 {\"\"ImportId\"\":\"\"endDate\"\",\"\"timeZone\"\":\"\"America/Denver\"\"}\n",
       "3 2021-07-09 22:37:51                                       \n",
       "4 2021-07-09 22:53:16                                       \n",
       "5 2021-07-09 22:54:39                                       \n",
       "6 2021-07-09 23:00:33                                       \n",
       "  Status                    IPAddress                   \n",
       "1 Response Type             IP Address                  \n",
       "2 {\"\"ImportId\"\":\"\"status\"\"} {\"\"ImportId\"\":\"\"ipAddress\"\"}\n",
       "3 Survey Preview                                        \n",
       "4 IP Address                157.51.62.60                \n",
       "5 IP Address                201.47.22.214               \n",
       "6 IP Address                192.154.206.9               \n",
       "  Progress                    Duration (in seconds)      \n",
       "1 Progress                    Duration (in seconds)      \n",
       "2 {\"\"ImportId\"\":\"\"progress\"\"} {\"\"ImportId\"\":\"\"duration\"\"}\n",
       "3 100                         91                         \n",
       "4 100                         820                        \n",
       "5 100                         992                        \n",
       "6 100                         385                        \n",
       "  Finished                   \n",
       "1 Finished                   \n",
       "2 {\"\"ImportId\"\":\"\"finished\"\"}\n",
       "3 True                       \n",
       "4 True                       \n",
       "5 True                       \n",
       "6 True                       \n",
       "  RecordedDate                                                   \n",
       "1 Recorded Date                                                  \n",
       "2 {\"\"ImportId\"\":\"\"recordedDate\"\",\"\"timeZone\"\":\"\"America/Denver\"\"}\n",
       "3 2021-07-09 22:37:54                                            \n",
       "4 2021-07-09 22:53:17                                            \n",
       "5 2021-07-09 22:54:40                                            \n",
       "6 2021-07-09 23:00:34                                            \n",
       "  ResponseId                   RecipientLastName                    ...\n",
       "1 Response ID                  Recipient Last Name                  ...\n",
       "2 {\"\"ImportId\"\":\"\"_recordId\"\"} {\"\"ImportId\"\":\"\"recipientLastName\"\"} ...\n",
       "3 R_2YhLYlwEGxfIgCh                                                 ...\n",
       "4 R_2e4IILDq5qEipzH                                                 ...\n",
       "5 R_2U5fS9EqxPKlcze                                                 ...\n",
       "6 R_1k0TzyF95z6apGi                                                 ...\n",
       "  q1_txt                    q2_txt                    q3_txt                   \n",
       "1 q1_txt                    q2_txt                    q3_txt                   \n",
       "2 {\"\"ImportId\"\":\"\"q1_txt\"\"} {\"\"ImportId\"\":\"\"q2_txt\"\"} {\"\"ImportId\"\":\"\"q3_txt\"\"}\n",
       "3 NaN(5+7)*(10-8)           NaN(11+13)*(6-5)          NaN3+7*2                 \n",
       "4 NaN10+8/(6-7)             NaN13+5                   NaN7*2+(1*4)             \n",
       "5 NaN3*6*(8-7)              NaN5*6*(11-13)            NaN2*7*(4-1)             \n",
       "6 NaN33.6                   NaN11+13+5/6              NaN1/2*4*7               \n",
       "  q4_txt                    q5_txt                   \n",
       "1 q4_txt                    q5_txt                   \n",
       "2 {\"\"ImportId\"\":\"\"q4_txt\"\"} {\"\"ImportId\"\":\"\"q5_txt\"\"}\n",
       "3 NaN10+8-7-5               NaN2+3+5+8               \n",
       "4                           NaN8*3-(5+7)             \n",
       "5 NaN3*7*(7-2)              ~+3*8*(2-5)              \n",
       "6 NaN7/3*7*2                NaN2/8*3+5               \n",
       "  surveycode                    MID                   \n",
       "1 surveycode                    MID                   \n",
       "2 {\"\"ImportId\"\":\"\"surveycode\"\"} {\"\"ImportId\"\":\"\"MID\"\"}\n",
       "3 9348                                                \n",
       "4 1441                          A33Z442WJQ8ADC        \n",
       "5 7876                          A2825I2XO6KZEP        \n",
       "6 9853                          A35T79LLCN429G        \n",
       "  p1_txt                    p2_txt                    Random                   \n",
       "1 p1_txt                    p2_txt                    Random                   \n",
       "2 {\"\"ImportId\"\":\"\"p1_txt\"\"} {\"\"ImportId\"\":\"\"p2_txt\"\"} {\"\"ImportId\"\":\"\"Random\"\"}\n",
       "3                                                     2                        \n",
       "4                                                     2                        \n",
       "5                                                     1                        \n",
       "6                                                     2                        "
      ]
     },
     "metadata": {},
     "output_type": "display_data"
    }
   ],
   "source": [
    "head(rawData)"
   ]
  },
  {
   "cell_type": "code",
   "execution_count": 45,
   "metadata": {},
   "outputs": [
    {
     "name": "stdout",
     "output_type": "stream",
     "text": [
      "[1] \"Repeated IPs:\"\n"
     ]
    },
    {
     "data": {
      "text/html": [
       "<table>\n",
       "<thead><tr><th scope=col>V1</th><th scope=col>N</th></tr></thead>\n",
       "<tbody>\n",
       "\t<tr><td>117.213.35.151</td><td>2             </td></tr>\n",
       "\t<tr><td>117.213.35.153</td><td>3             </td></tr>\n",
       "\t<tr><td>117.217.160.22</td><td>2             </td></tr>\n",
       "\t<tr><td>117.217.212.77</td><td>2             </td></tr>\n",
       "\t<tr><td>182.65.18.62  </td><td>2             </td></tr>\n",
       "\t<tr><td>49.37.209.192 </td><td>3             </td></tr>\n",
       "\t<tr><td>49.37.211.26  </td><td>3             </td></tr>\n",
       "\t<tr><td>59.99.222.64  </td><td>2             </td></tr>\n",
       "</tbody>\n",
       "</table>\n"
      ],
      "text/latex": [
       "\\begin{tabular}{r|ll}\n",
       " V1 & N\\\\\n",
       "\\hline\n",
       "\t 117.213.35.151 & 2             \\\\\n",
       "\t 117.213.35.153 & 3             \\\\\n",
       "\t 117.217.160.22 & 2             \\\\\n",
       "\t 117.217.212.77 & 2             \\\\\n",
       "\t 182.65.18.62   & 2             \\\\\n",
       "\t 49.37.209.192  & 3             \\\\\n",
       "\t 49.37.211.26   & 3             \\\\\n",
       "\t 59.99.222.64   & 2             \\\\\n",
       "\\end{tabular}\n"
      ],
      "text/markdown": [
       "\n",
       "| V1 | N |\n",
       "|---|---|\n",
       "| 117.213.35.151 | 2              |\n",
       "| 117.213.35.153 | 3              |\n",
       "| 117.217.160.22 | 2              |\n",
       "| 117.217.212.77 | 2              |\n",
       "| 182.65.18.62   | 2              |\n",
       "| 49.37.209.192  | 3              |\n",
       "| 49.37.211.26   | 3              |\n",
       "| 59.99.222.64   | 2              |\n",
       "\n"
      ],
      "text/plain": [
       "  V1             N\n",
       "1 117.213.35.151 2\n",
       "2 117.213.35.153 3\n",
       "3 117.217.160.22 2\n",
       "4 117.217.212.77 2\n",
       "5 182.65.18.62   2\n",
       "6 49.37.209.192  3\n",
       "7 49.37.211.26   3\n",
       "8 59.99.222.64   2"
      ]
     },
     "metadata": {},
     "output_type": "display_data"
    },
    {
     "name": "stdout",
     "output_type": "stream",
     "text": [
      "[1] \"Repeated MIDs:\"\n"
     ]
    },
    {
     "data": {
      "text/html": [
       "<table>\n",
       "<thead><tr><th scope=col>V1</th><th scope=col>N</th></tr></thead>\n",
       "<tbody>\n",
       "\t<tr><td>AFV9RX3T7ZHIB</td><td>2            </td></tr>\n",
       "</tbody>\n",
       "</table>\n"
      ],
      "text/latex": [
       "\\begin{tabular}{r|ll}\n",
       " V1 & N\\\\\n",
       "\\hline\n",
       "\t AFV9RX3T7ZHIB & 2            \\\\\n",
       "\\end{tabular}\n"
      ],
      "text/markdown": [
       "\n",
       "| V1 | N |\n",
       "|---|---|\n",
       "| AFV9RX3T7ZHIB | 2             |\n",
       "\n"
      ],
      "text/plain": [
       "  V1            N\n",
       "1 AFV9RX3T7ZHIB 2"
      ]
     },
     "metadata": {},
     "output_type": "display_data"
    },
    {
     "data": {
      "text/html": [
       "'cleanedData Dimensions:'"
      ],
      "text/latex": [
       "'cleanedData Dimensions:'"
      ],
      "text/markdown": [
       "'cleanedData Dimensions:'"
      ],
      "text/plain": [
       "[1] \"cleanedData Dimensions:\""
      ]
     },
     "metadata": {},
     "output_type": "display_data"
    },
    {
     "data": {
      "text/html": [
       "<ol class=list-inline>\n",
       "\t<li>274</li>\n",
       "\t<li>179</li>\n",
       "</ol>\n"
      ],
      "text/latex": [
       "\\begin{enumerate*}\n",
       "\\item 274\n",
       "\\item 179\n",
       "\\end{enumerate*}\n"
      ],
      "text/markdown": [
       "1. 274\n",
       "2. 179\n",
       "\n",
       "\n"
      ],
      "text/plain": [
       "[1] 274 179"
      ]
     },
     "metadata": {},
     "output_type": "display_data"
    }
   ],
   "source": [
    "# basic removals\n",
    "cleanedData = rawData[-(1:dataStartRow), ] # remove all data from previous pilot runs\n",
    "cleanedData = cleanedData[MID %in% amtIDs[, WorkerId], ] # keep only entries with AMT worker IDs that match those on Amazon interface\n",
    "cleanedData = cleanedData[order(StartDate)] # reorder by ascending starting time\n",
    "\n",
    "# print repeated IPs and MIDs\n",
    "print('Repeated IPs:')\n",
    "data.table(table(c(cleanedData[, IPAddress], 000)))[N>1, ] # use 000 as placemark so list is not empty\n",
    "print('Repeated MIDs:')\n",
    "data.table(table(c(cleanedData[, MID], 000)))[N>1, ]\n",
    "\n",
    "# remove repeated IPs and MIDs\n",
    "repeatedIPs = data.table(table(c(cleanedData[, IPAddress], 000)))[N>1, V1]\n",
    "repeatedMIDs = data.table(table(c(cleanedData[, MID], 000)))[N>1, V1]\n",
    "\n",
    "for (MID_i in repeatedMIDs) {\n",
    "    cleanedData[which(cleanedData[, MID] == MID_i)[-1], ] = NA # remove data from duplicate MechTurk IDs (keep first data point)\n",
    "}\n",
    "for (IP_i in repeatedIPs) {\n",
    "    cleanedData[which(cleanedData[, IPAddress] == IP_i)[-1], ] = NA # remove data from duplicate IPs (keep first data point)\n",
    "}\n",
    "cleanedData = na.omit(cleanedData)\n",
    "\n",
    "'cleanedData Dimensions:'\n",
    "dim(cleanedData)"
   ]
  },
  {
   "cell_type": "code",
   "execution_count": 5,
   "metadata": {},
   "outputs": [
    {
     "name": "stderr",
     "output_type": "stream",
     "text": [
      "Warning message in cbind(parts$left, ellip_h, parts$right, deparse.level = 0L):\n",
      "\"number of rows of result is not a multiple of vector length (arg 2)\"Warning message in cbind(parts$left, ellip_h, parts$right, deparse.level = 0L):\n",
      "\"number of rows of result is not a multiple of vector length (arg 2)\"Warning message in cbind(parts$left, ellip_h, parts$right, deparse.level = 0L):\n",
      "\"number of rows of result is not a multiple of vector length (arg 2)\"Warning message in cbind(parts$left, ellip_h, parts$right, deparse.level = 0L):\n",
      "\"number of rows of result is not a multiple of vector length (arg 2)\""
     ]
    },
    {
     "data": {
      "text/html": [
       "<table>\n",
       "<thead><tr><th scope=col>StartDate</th><th scope=col>EndDate</th><th scope=col>Status</th><th scope=col>IPAddress</th><th scope=col>Progress</th><th scope=col>Duration (in seconds)</th><th scope=col>Finished</th><th scope=col>RecordedDate</th><th scope=col>ResponseId</th><th scope=col>RecipientLastName</th><th scope=col>...</th><th scope=col>q1_txt</th><th scope=col>q2_txt</th><th scope=col>q3_txt</th><th scope=col>q4_txt</th><th scope=col>q5_txt</th><th scope=col>surveycode</th><th scope=col>MID</th><th scope=col>p1_txt</th><th scope=col>p2_txt</th><th scope=col>Random</th></tr></thead>\n",
       "<tbody>\n",
       "</tbody>\n",
       "</table>\n"
      ],
      "text/latex": [
       "\\begin{tabular}{r|lllllllllllllllllllllllllllllllllllllllllllllllllllllllllllllllllllllllllllllllllllllllllllllllllllllllllllllllllllllllllllllllllllllllllllllllllllllllllllllllllllllllllllllllllll}\n",
       " StartDate & EndDate & Status & IPAddress & Progress & Duration (in seconds) & Finished & RecordedDate & ResponseId & RecipientLastName & ... & q1\\_txt & q2\\_txt & q3\\_txt & q4\\_txt & q5\\_txt & surveycode & MID & p1\\_txt & p2\\_txt & Random\\\\\n",
       "\\hline\n",
       "\\end{tabular}\n"
      ],
      "text/markdown": [
       "\n",
       "| StartDate | EndDate | Status | IPAddress | Progress | Duration (in seconds) | Finished | RecordedDate | ResponseId | RecipientLastName | ... | q1_txt | q2_txt | q3_txt | q4_txt | q5_txt | surveycode | MID | p1_txt | p2_txt | Random |\n",
       "|---|---|---|---|---|---|---|---|---|---|---|---|---|---|---|---|---|---|---|---|---|\n",
       "\n"
      ],
      "text/plain": [
       "     StartDate EndDate Status IPAddress Progress Duration (in seconds) Finished\n",
       "     RecordedDate ResponseId RecipientLastName ... q1_txt q2_txt q3_txt q4_txt\n",
       "     q5_txt surveycode MID p1_txt p2_txt Random"
      ]
     },
     "metadata": {},
     "output_type": "display_data"
    }
   ],
   "source": [
    "# check if any subjects did not finish the survey\n",
    "\n",
    "cleanedData[Finished=='False', ]"
   ]
  },
  {
   "cell_type": "code",
   "execution_count": 62,
   "metadata": {},
   "outputs": [],
   "source": [
    "# coalesce control and treatment data into combined columns\n",
    "\n",
    "numPuzzles = 5\n",
    "\n",
    "defaultW <- getOption(\"warn\") # suppress warnings that appear when coalescing\n",
    "options(warn=-1)\n",
    "\n",
    "# for each puzzle, coalesce the data (text and stress/confidence questions) from treatment and control into a single column\n",
    "for (puzzleNum in c(1:numPuzzles)) {\n",
    "    # create column names to get data from in each loop (i.e. for each puzzle)\n",
    "    rt_colName_treat = paste('Q6.', toString(1+(puzzleNum-1)*5), '_Page Submit', sep='')\n",
    "    rt_colName_control = paste('Q8.', toString(1+(puzzleNum-1)*5), '_Page Submit', sep='')\n",
    "    rt_questions_colName_treat = paste('Q6.', toString(3+(puzzleNum-1)*5), '_Page Submit', sep='')\n",
    "    rt_questions_colName_control = paste('Q8.', toString(3+(puzzleNum-1)*5), '_Page Submit', sep='')\n",
    "    stress_colName_treat = paste('Q6.', toString(4+(puzzleNum-1)*5), '_1', sep='')\n",
    "    stress_colName_control = paste('Q8.', toString(4+(puzzleNum-1)*5), '_1', sep='')\n",
    "    confidence_colName_treat = paste('Q6.', toString(5+(puzzleNum-1)*5), '_1', sep='')\n",
    "    confidence_colName_control = paste('Q8.', toString(5+(puzzleNum-1)*5), '_1', sep='')\n",
    "    \n",
    "    # coalesce the data for each puzzle question\n",
    "    cleanedData[, paste('rt_q', puzzleNum , sep=''):=coalesce(as.numeric(unlist(cleanedData[, ..rt_colName_treat])), as.numeric(unlist(cleanedData[, ..rt_colName_control])))]\n",
    "    cleanedData[, paste('rt_questions_q', puzzleNum , sep=''):=coalesce(as.numeric(unlist(cleanedData[, ..rt_questions_colName_treat])), as.numeric(unlist(cleanedData[, ..rt_questions_colName_control])))]\n",
    "    cleanedData[, paste('stress_q', puzzleNum , sep=''):=coalesce(as.numeric(unlist(cleanedData[, ..stress_colName_treat])), as.numeric(unlist(cleanedData[, ..stress_colName_control])))]\n",
    "    cleanedData[, paste('confidence_q', puzzleNum , sep=''):=coalesce(as.numeric(unlist(cleanedData[, ..confidence_colName_treat])), as.numeric(unlist(cleanedData[, ..confidence_colName_control])))]  \n",
    "}\n",
    "\n",
    "options(warn = defaultW)\n",
    "\n",
    "\n",
    "# coalesce for treatment message page\n",
    "cleanedData[, 'rt_treatMsg':=coalesce(as.numeric(unlist(cleanedData[, 'Q5.1_Page Submit'])), as.numeric(unlist(cleanedData[, 'Q7.1_Page Submit'])))]\n",
    "cleanedData[, 'cc_treatMsg':=coalesce(as.numeric(unlist(cleanedData[, 'Q5.1_Click Count'])), as.numeric(unlist(cleanedData[, 'Q7.1_Click Count'])))]\n"
   ]
  },
  {
   "cell_type": "markdown",
   "metadata": {},
   "source": [
    "### Rename Column Names"
   ]
  },
  {
   "cell_type": "code",
   "execution_count": 63,
   "metadata": {},
   "outputs": [],
   "source": [
    "# rename columns\n",
    "\n",
    "# rt = response time, cc = click count\n",
    "##### change the key below if you want to use different column names:\n",
    "renamedCols = c('IPAddress'='IP', 'Duration (in seconds)'='totTaskTime',\n",
    "                'Q1.1_Page Submit'='rt_intro', 'Q1.1_Click Count'='cc_intro',\n",
    "                'Q2.1'='gender', 'Q2.2'='age', 'Q2.3'='ethnicity', 'Q2.4'='education', 'Q2.5'='income', 'Q2.6'='intent', 'Q2.7_1'='mathEnjoyment',\n",
    "                'Q3.1_Page Submit'='rt_instructions', 'Q3.1_Click Count'='cc_instructions', \n",
    "                'Q4.1_Page Submit'='rt_prac1', 'Q4.1_Click Count'='cc_prac1', 'p1_txt'='text_prac1',\n",
    "                'Q4.3_Page Submit'='rt_prac2', 'Q4.3_Click Count'='cc_prac2', 'p2_txt'='text_prac2',\n",
    "                'q1_txt'='text_q1', 'q2_txt'='text_q2', 'q3_txt'='text_q3', 'q4_txt'='text_q4', 'q5_txt'='text_q5', \n",
    "                'Q9.1'='postq_playedBefore', 'Q9.2_1'='postq_enjoy', 'Q9.3_1'='postq_difficulty', 'Q9.4_1'='postq_focus', 'Q9.5_1'='postq_pressure',\n",
    "                'Q9.6'='postq_impact', 'Q11.1'='freeResponse',\n",
    "                'Random'='treatGroup'\n",
    "               )\n",
    "\n",
    "\n",
    "# rename columns according to key above\n",
    "for (colNum in 1:length(renamedCols)) {\n",
    "    setnames(cleanedData, names(renamedCols[colNum]), toString(renamedCols[colNum]))\n",
    "}\n"
   ]
  },
  {
   "cell_type": "markdown",
   "metadata": {},
   "source": [
    "### Change data types of columns"
   ]
  },
  {
   "cell_type": "code",
   "execution_count": 176,
   "metadata": {},
   "outputs": [],
   "source": [
    "# convert columns to numeric type\n",
    "cleanedData[, treatGroup:=as.numeric(treatGroup)-1] # -1 so 0 = control, 1 = treatment\n",
    "cleanedData[, rt_treatMsg:=as.numeric(rt_treatMsg)]\n",
    "cleanedData[, q1_score:=as.numeric(q1_score)]\n",
    "cleanedData[, q2_score:=as.numeric(q2_score)]\n",
    "cleanedData[, q3_score:=as.numeric(q3_score)]\n",
    "cleanedData[, q4_score:=as.numeric(q4_score)]\n",
    "cleanedData[, q5_score:=as.numeric(q5_score)]"
   ]
  },
  {
   "cell_type": "markdown",
   "metadata": {},
   "source": [
    "### Helper Functions for Exlcuding Subjects"
   ]
  },
  {
   "cell_type": "code",
   "execution_count": 64,
   "metadata": {},
   "outputs": [],
   "source": [
    "# function for comparing inputted numbers with those given by the puzzle\n",
    "# getting only the inputted numeric values is kind of contrived \n",
    "# because we need to differentiate between '10\" as '10' and not '1' and '0'\n",
    "# we do this by going through each character and checking if the character after each number is also a number or not\n",
    "\n",
    "checkDigits = function (inputStr, puzzleNums) {\n",
    "    allChars = unlist(strsplit(inputStr, split = \"\"))\n",
    "    \n",
    "    inputtedNums = c()\n",
    "\n",
    "    defaultW <- getOption(\"warn\") # suppress warnings that appear when coalescing\n",
    "    options(warn=-1)\n",
    "    \n",
    "    for (charNum in 1:length(allChars)) {\n",
    "        if (all(c(is.na(as.numeric(allChars[charNum - 1])), TRUE))) { # only collect numbers when previous character is not a number\n",
    "            currChar = allChars[charNum]\n",
    "\n",
    "            if (charNum == length(allChars)) { # no next character at end of list\n",
    "                nextChar = NA\n",
    "            } else {\n",
    "                nextChar = allChars[charNum + 1]     \n",
    "            }\n",
    "\n",
    "            # numbers inputted next to each other are counted as a single number (eg. 10 is '10' and not '1' and '0')\n",
    "            if (!is.na(as.numeric(currChar))) {\n",
    "                if (!is.na(as.numeric(currChar)) & !is.na(as.numeric(nextChar))) {\n",
    "                    inputtedNums = c(inputtedNums, as.numeric(paste(currChar, nextChar, sep='')))\n",
    "                } else {\n",
    "                    inputtedNums = c(inputtedNums, as.numeric(currChar))  \n",
    "                }\n",
    "            }\n",
    "        }\n",
    "    }\n",
    "\n",
    "    options(warn = defaultW)\n",
    "    \n",
    "    \n",
    "    \n",
    "    # check if subject's input contains all 4 of the numbers given in the puzzle\n",
    "    length(inputtedNums)==length(puzzleNums) & setequal(inputtedNums, puzzleNums)\n",
    "}\n",
    "\n",
    "\n",
    "# function for extracting all text before the correct answer is given in practice questions\n",
    "extractPracText = function (inputStr) {\n",
    "    allChars = unlist(strsplit(inputStr, split = \"\"))\n",
    "    tildeInds = unlist(gregexpr(pattern ='~', inputStr))\n",
    "    \n",
    "    if (length(tildeInds)==1) { # if the subject answered correctly output the entire string\n",
    "         inputStr\n",
    "    } else { # if answered incorrectly, output only characters before the 2nd tilde\n",
    "        paste(allChars[1:tildeInds[2]], collapse='') \n",
    "    }\n",
    "}"
   ]
  },
  {
   "cell_type": "markdown",
   "metadata": {},
   "source": [
    "### Exclude subjects based on exclusion criteria"
   ]
  },
  {
   "cell_type": "code",
   "execution_count": 65,
   "metadata": {},
   "outputs": [],
   "source": [
    "# exclude subjects based on exclusion criteria\n",
    "\n",
    "allPuzzleNums = list('prac1' = c(2,10,9,10), 'prac2' = c(3,6,7,8),\n",
    "                     'q1' = c(6,10,7,8), 'q2' = c(11,13,5,6), 'q3' = c(1,2,4,7), 'q4' = c(7,3,7,3), 'q5' = c(2,8,3,5)\n",
    "                    )\n",
    "\n",
    "# inclusion criteria: \n",
    "# 1. across all practice and test puzzles, at least one of them uses all 4 puzzle numbers in the attempted response\n",
    "\n",
    "# create new columns with extracted practice question text\n",
    "cleanedData[, 'text_prac1_extracted':=apply(cleanedData[, 'text_prac1'], 1, extractPracText)]\n",
    "cleanedData[, 'text_prac2_extracted':=apply(cleanedData[, 'text_prac2'], 1, extractPracText)]\n",
    "\n",
    "renamedData = data.table(cleanedData) # save a copy of full data set before major exclusions\n",
    "\n",
    "cleanedData = cleanedData[apply(cleanedData[, 'text_prac1_extracted'], 1, checkDigits, puzzleNums=unlist(allPuzzleNums['prac1'])) |\n",
    "                apply(cleanedData[, 'text_prac2_extracted'], 1, checkDigits, puzzleNums=unlist(allPuzzleNums['prac2'])), ]"
   ]
  },
  {
   "cell_type": "markdown",
   "metadata": {},
   "source": [
    "# Analysis"
   ]
  },
  {
   "cell_type": "code",
   "execution_count": 79,
   "metadata": {},
   "outputs": [],
   "source": [
    "# subset to only columns that will be used for analysis\n",
    "\n",
    "colsForAnalysis = c('totTaskTime',\n",
    "                    'rt_intro', 'cc_intro',\n",
    "                    'gender', 'age', 'ethnicity', 'education', 'income', 'intent', 'mathEnjoyment',\n",
    "                    'rt_instructions', 'cc_instructions', \n",
    "                    'rt_prac1', 'cc_prac1', 'text_prac1',\n",
    "                    'rt_prac2', 'cc_prac2', 'text_prac2',\n",
    "                    'rt_treatMsg', 'cc_treatMsg',\n",
    "                    'rt_q1', 'rt_questions_q1', 'stress_q1', 'confidence_q1',\n",
    "                    'rt_q2', 'rt_questions_q2', 'stress_q2', 'confidence_q2',\n",
    "                    'rt_q3', 'rt_questions_q3', 'stress_q3', 'confidence_q3',\n",
    "                    'rt_q4', 'rt_questions_q4', 'stress_q4', 'confidence_q4',\n",
    "                    'rt_q5', 'rt_questions_q5', 'stress_q5', 'confidence_q5',\n",
    "                    'q1_score', 'q2_score', 'q3_score', 'q4_score', 'q5_score', 'final_score',\n",
    "                    'postq_playedBefore', 'postq_enjoy', 'postq_difficulty', 'postq_focus', 'postq_pressure',\n",
    "                    'postq_impact', 'freeResponse',\n",
    "                    'treatGroup',\n",
    "                    'MID'\n",
    "                   )\n",
    "\n",
    "cleanedData = cleanedData[ , ..colsForAnalysis] \n",
    "\n",
    "# create a duplicate of cleanedData\n",
    "temp = data.table(cleanedData)"
   ]
  },
  {
   "cell_type": "code",
   "execution_count": 80,
   "metadata": {},
   "outputs": [
    {
     "name": "stdout",
     "output_type": "stream",
     "text": [
      "[1] \"Sample Sizes By Treatment Group:\"\n"
     ]
    },
    {
     "data": {
      "text/plain": [
       "\n",
       " 1  2 \n",
       "84 88 "
      ]
     },
     "metadata": {},
     "output_type": "display_data"
    }
   ],
   "source": [
    "print('Sample Sizes By Treatment Group:')\n",
    "table(cleanedData[, treatGroup])"
   ]
  },
  {
   "cell_type": "code",
   "execution_count": 81,
   "metadata": {},
   "outputs": [],
   "source": [
    "# convert likert scale strings to numeric\n",
    "\n",
    "cleanedData = data.table(temp) # reset to default cleaned state\n",
    "\n",
    "# pre-treatment survey questions\n",
    "cleanedData[, mathEnjoyment:=sapply(cleanedData[, mathEnjoyment], function(x) as.numeric(unlist(strsplit(x, split=''))[1]))]\n",
    "\n",
    "# post-game questions\n",
    "cleanedData[, postq_pressure:=sapply(cleanedData[, postq_pressure], function(x) as.numeric(unlist(strsplit(x, split=''))[1]))]\n",
    "cleanedData[, postq_enjoy:=sapply(cleanedData[, postq_enjoy], function(x) as.numeric(unlist(strsplit(x, split=''))[1]))]\n",
    "cleanedData[, postq_difficulty:=sapply(cleanedData[, postq_difficulty], function(x) as.numeric(unlist(strsplit(x, split=''))[1]))]\n",
    "cleanedData[, postq_focus:=sapply(cleanedData[, postq_focus], function(x) as.numeric(unlist(strsplit(x, split=''))[1]))]"
   ]
  },
  {
   "cell_type": "markdown",
   "metadata": {},
   "source": [
    "## Models: Final Score as Outcome"
   ]
  },
  {
   "cell_type": "code",
   "execution_count": 175,
   "metadata": {
    "scrolled": false
   },
   "outputs": [
    {
     "name": "stdout",
     "output_type": "stream",
     "text": [
      "\n",
      "==============================================================================\n",
      "                                               Dependent variable:            \n",
      "                                   -------------------------------------------\n",
      "                                                   final_score                \n",
      "                                           (1)                   (2)          \n",
      "------------------------------------------------------------------------------\n",
      "as.numeric(treatGroup)                   -2.040                -2.582         \n",
      "                                         (2.241)               (2.160)        \n",
      "                                                                              \n",
      "ethnicityAsian                                                15.249***       \n",
      "                                                               (4.013)        \n",
      "                                                                              \n",
      "ethnicityHispanic                                              10.930         \n",
      "                                                               (9.091)        \n",
      "                                                                              \n",
      "ethnicityNative American                                       -1.529         \n",
      "                                                               (8.714)        \n",
      "                                                                              \n",
      "ethnicityPrefer not to answer                                   5.649         \n",
      "                                                              (11.112)        \n",
      "                                                                              \n",
      "ethnicityWhite/ Caucasian                                       3.945         \n",
      "                                                               (3.575)        \n",
      "                                                                              \n",
      "educationHigh school                                            7.946         \n",
      "                                                               (7.352)        \n",
      "                                                                              \n",
      "educationMaster's or higher degree                              1.721         \n",
      "                                                               (2.712)        \n",
      "                                                                              \n",
      "100,000                                                         1.019         \n",
      "                                                               (2.507)        \n",
      "                                                                              \n",
      "25,000                                                          2.780         \n",
      "                                                               (3.223)        \n",
      "                                                                              \n",
      "100,000                                                         3.462         \n",
      "                                                               (4.162)        \n",
      "                                                                              \n",
      "intentMonetary incentive                                       6.999*         \n",
      "                                                               (3.962)        \n",
      "                                                                              \n",
      "intentOther                                                    17.193         \n",
      "                                                              (14.290)        \n",
      "                                                                              \n",
      "mathEnjoyment                                                  -1.712         \n",
      "                                                               (1.715)        \n",
      "                                                                              \n",
      "as.numeric(rt_treatMsg)                                         0.101         \n",
      "                                                               (0.068)        \n",
      "                                                                              \n",
      "Constant                                16.921***              14.966         \n",
      "                                         (3.568)               (9.645)        \n",
      "                                                                              \n",
      "------------------------------------------------------------------------------\n",
      "Observations                               172                   172          \n",
      "R2                                        0.005                 0.219         \n",
      "Adjusted R2                              -0.001                 0.144         \n",
      "Residual Std. Error                 14.691 (df = 170)     13.582 (df = 156)   \n",
      "F Statistic                        0.829 (df = 1; 170) 2.924*** (df = 15; 156)\n",
      "==============================================================================\n",
      "Note:                                              *p<0.1; **p<0.05; ***p<0.01\n"
     ]
    }
   ],
   "source": [
    "lm_basic = cleanedData[ , lm(final_score~as.numeric(treatGroup))]\n",
    "lm_covariates = cleanedData[ , lm(final_score~as.numeric(treatGroup) + ethnicity + education + income + intent + mathEnjoyment +\n",
    "                                as.numeric(rt_treatMsg))]\n",
    "\n",
    "stargazer(lm_basic, lm_covariates, type='text')"
   ]
  },
  {
   "cell_type": "markdown",
   "metadata": {},
   "source": [
    "## Models: Self-report Pressure as Outcome"
   ]
  },
  {
   "cell_type": "code",
   "execution_count": 390,
   "metadata": {},
   "outputs": [
    {
     "name": "stdout",
     "output_type": "stream",
     "text": [
      "\n",
      "============================================================================\n",
      "                                              Dependent variable:           \n",
      "                                   -----------------------------------------\n",
      "                                                postq_pressure              \n",
      "                                           (1)                  (2)         \n",
      "----------------------------------------------------------------------------\n",
      "as.numeric(treatGroup)                    0.040                0.005        \n",
      "                                         (0.159)              (0.162)       \n",
      "                                                                            \n",
      "ethnicityAsian                                                -0.373        \n",
      "                                                              (0.301)       \n",
      "                                                                            \n",
      "ethnicityHispanic                                             -0.694        \n",
      "                                                              (0.681)       \n",
      "                                                                            \n",
      "ethnicityNative American                                       0.109        \n",
      "                                                              (0.653)       \n",
      "                                                                            \n",
      "ethnicityPrefer not to answer                                  0.848        \n",
      "                                                              (0.833)       \n",
      "                                                                            \n",
      "ethnicityWhite/ Caucasian                                    -0.578**       \n",
      "                                                              (0.268)       \n",
      "                                                                            \n",
      "educationHigh school                                           0.592        \n",
      "                                                              (0.551)       \n",
      "                                                                            \n",
      "educationMaster's or higher degree                            -0.142        \n",
      "                                                              (0.203)       \n",
      "                                                                            \n",
      "100,000                                                        0.129        \n",
      "                                                              (0.188)       \n",
      "                                                                            \n",
      "25,000                                                        -0.339        \n",
      "                                                              (0.242)       \n",
      "                                                                            \n",
      "100,000                                                        0.198        \n",
      "                                                              (0.312)       \n",
      "                                                                            \n",
      "intentMonetary incentive                                       0.322        \n",
      "                                                              (0.297)       \n",
      "                                                                            \n",
      "intentOther                                                    1.430        \n",
      "                                                              (1.071)       \n",
      "                                                                            \n",
      "mathEnjoyment                                                  0.091        \n",
      "                                                              (0.129)       \n",
      "                                                                            \n",
      "as.numeric(rt_treatMsg)                                       -0.005        \n",
      "                                                              (0.005)       \n",
      "                                                                            \n",
      "Constant                                3.579***             3.699***       \n",
      "                                         (0.254)              (0.723)       \n",
      "                                                                            \n",
      "----------------------------------------------------------------------------\n",
      "Observations                               172                  172         \n",
      "R2                                       0.0004                0.130        \n",
      "Adjusted R2                              -0.006                0.046        \n",
      "Residual Std. Error                 1.045 (df = 170)     1.018 (df = 156)   \n",
      "F Statistic                        0.063 (df = 1; 170) 1.548* (df = 15; 156)\n",
      "============================================================================\n",
      "Note:                                            *p<0.1; **p<0.05; ***p<0.01\n"
     ]
    }
   ],
   "source": [
    "lm_basic = cleanedData[, lm(postq_pressure~as.numeric(treatGroup))]\n",
    "lm_covariates = cleanedData[ , lm(postq_pressure~as.numeric(treatGroup) + ethnicity + education + income + intent + mathEnjoyment +\n",
    "                                    as.numeric(rt_treatMsg))]\n",
    "\n",
    "stargazer(lm_basic, lm_covariates, type='text')"
   ]
  },
  {
   "cell_type": "markdown",
   "metadata": {},
   "source": [
    "## Models: Response Time on Puzzles as Outcome"
   ]
  },
  {
   "cell_type": "code",
   "execution_count": 393,
   "metadata": {},
   "outputs": [
    {
     "name": "stdout",
     "output_type": "stream",
     "text": [
      "\n",
      "=============================================================================\n",
      "                                              Dependent variable:            \n",
      "                                   ------------------------------------------\n",
      "                                                     rt_all                  \n",
      "                                           (1)                  (2)          \n",
      "-----------------------------------------------------------------------------\n",
      "as.numeric(treatGroup)                   12.827                14.460        \n",
      "                                        (18.978)              (19.001)       \n",
      "                                                                             \n",
      "ethnicityAsian                                                73.109**       \n",
      "                                                              (35.301)       \n",
      "                                                                             \n",
      "ethnicityHispanic                                             -28.888        \n",
      "                                                              (79.970)       \n",
      "                                                                             \n",
      "ethnicityNative American                                      -34.555        \n",
      "                                                              (76.656)       \n",
      "                                                                             \n",
      "ethnicityPrefer not to answer                                 -36.569        \n",
      "                                                              (97.743)       \n",
      "                                                                             \n",
      "ethnicityWhite/ Caucasian                                      23.203        \n",
      "                                                              (31.451)       \n",
      "                                                                             \n",
      "educationHigh school                                         129.388**       \n",
      "                                                              (64.672)       \n",
      "                                                                             \n",
      "educationMaster's or higher degree                             16.425        \n",
      "                                                              (23.855)       \n",
      "                                                                             \n",
      "100,000                                                        8.818         \n",
      "                                                              (22.051)       \n",
      "                                                                             \n",
      "25,000                                                        -35.426        \n",
      "                                                              (28.349)       \n",
      "                                                                             \n",
      "100,000                                                        2.203         \n",
      "                                                              (36.607)       \n",
      "                                                                             \n",
      "intentMonetary incentive                                      -12.410        \n",
      "                                                              (34.850)       \n",
      "                                                                             \n",
      "intentOther                                                   166.070        \n",
      "                                                             (125.700)       \n",
      "                                                                             \n",
      "mathEnjoyment                                                  -6.566        \n",
      "                                                              (15.084)       \n",
      "                                                                             \n",
      "as.numeric(rt_treatMsg)                                       1.913***       \n",
      "                                                              (0.596)        \n",
      "                                                                             \n",
      "Constant                               218.885***            184.965**       \n",
      "                                        (30.215)              (84.839)       \n",
      "                                                                             \n",
      "-----------------------------------------------------------------------------\n",
      "Observations                               172                  172          \n",
      "R2                                        0.003                0.156         \n",
      "Adjusted R2                              -0.003                0.075         \n",
      "Residual Std. Error                124.413 (df = 170)    119.470 (df = 156)  \n",
      "F Statistic                        0.457 (df = 1; 170) 1.924** (df = 15; 156)\n",
      "=============================================================================\n",
      "Note:                                             *p<0.1; **p<0.05; ***p<0.01\n"
     ]
    }
   ],
   "source": [
    "# create new column that is the sum of response times across all puzzle questions\n",
    "cleanedData[, rt_all:= rt_q1 + rt_q2 + rt_q3 + rt_q4 + rt_q5]\n",
    "\n",
    "lm_basic = cleanedData[, lm(rt_all~as.numeric(treatGroup))]\n",
    "lm_covariates = cleanedData[ , lm(rt_all~as.numeric(treatGroup) + ethnicity + education + income + intent + mathEnjoyment +\n",
    "                                  as.numeric(rt_treatMsg))]\n",
    "\n",
    "stargazer(lm_basic, lm_covariates, type='text')"
   ]
  },
  {
   "cell_type": "markdown",
   "metadata": {},
   "source": [
    "## Does reporting feeling more pressure correlate with worse scores?"
   ]
  },
  {
   "cell_type": "code",
   "execution_count": 276,
   "metadata": {},
   "outputs": [
    {
     "name": "stderr",
     "output_type": "stream",
     "text": [
      "Warning message in cor.test.default(as.numeric(cleanedData[, final_score]), as.numeric(cleanedData[, :\n",
      "\"Cannot compute exact p-value with ties\""
     ]
    },
    {
     "data": {
      "text/plain": [
       "\n",
       "\tSpearman's rank correlation rho\n",
       "\n",
       "data:  as.numeric(cleanedData[, final_score]) and as.numeric(cleanedData[, postq_pressure])\n",
       "S = 949729, p-value = 0.1172\n",
       "alternative hypothesis: true rho is not equal to 0\n",
       "sample estimates:\n",
       "       rho \n",
       "-0.1199023 \n"
      ]
     },
     "metadata": {},
     "output_type": "display_data"
    }
   ],
   "source": [
    "cor.test(as.numeric(cleanedData[, final_score]), as.numeric(cleanedData[, postq_pressure]), method='spearman')"
   ]
  },
  {
   "cell_type": "code",
   "execution_count": 351,
   "metadata": {},
   "outputs": [
    {
     "data": {
      "text/plain": [
       "\n",
       "\tSpearman's rank correlation rho\n",
       "\n",
       "data:  as.numeric(cleanedData[, final_score]) and as.numeric(cleanedData[, rt_all])\n",
       "S = 403144, p-value = 1.503e-13\n",
       "alternative hypothesis: true rho is not equal to 0\n",
       "sample estimates:\n",
       "      rho \n",
       "0.5246207 \n"
      ]
     },
     "metadata": {},
     "output_type": "display_data"
    }
   ],
   "source": [
    "cor.test(as.numeric(cleanedData[, final_score]), as.numeric(cleanedData[, rt_all]), method='spearman')"
   ]
  },
  {
   "cell_type": "markdown",
   "metadata": {},
   "source": [
    "## Post-puzzle Stress and Confidence Questions"
   ]
  },
  {
   "cell_type": "markdown",
   "metadata": {},
   "source": [
    "### Predict stress based on whether you anwered previous puzzle correctly or not"
   ]
  },
  {
   "cell_type": "code",
   "execution_count": 181,
   "metadata": {
    "scrolled": false
   },
   "outputs": [
    {
     "name": "stdout",
     "output_type": "stream",
     "text": [
      "\n",
      "====================================================================================\n",
      "                                                  Dependent variable:               \n",
      "                                   -------------------------------------------------\n",
      "                                   stress_q1 stress_q2 stress_q3 stress_q4 stress_q5\n",
      "                                      (1)       (2)       (3)       (4)       (5)   \n",
      "------------------------------------------------------------------------------------\n",
      "treatGroup                          -0.241    -0.180    -0.201    -0.229    -0.262  \n",
      "                                    (0.160)   (0.152)   (0.170)   (0.175)   (0.188) \n",
      "                                                                                    \n",
      "q1_score                           -0.076***                                        \n",
      "                                    (0.020)                                         \n",
      "                                                                                    \n",
      "q2_score                                     -0.267***                              \n",
      "                                              (0.098)                               \n",
      "                                                                                    \n",
      "q3_score                                               -0.091***                    \n",
      "                                                        (0.018)                     \n",
      "                                                                                    \n",
      "q4_score                                                         -0.087***          \n",
      "                                                                  (0.021)           \n",
      "                                                                                    \n",
      "q5_score                                                                   -0.069***\n",
      "                                                                            (0.020) \n",
      "                                                                                    \n",
      "ethnicityAsian                       0.394    0.521*     0.422     0.546     0.580  \n",
      "                                    (0.304)   (0.281)   (0.322)   (0.331)   (0.360) \n",
      "                                                                                    \n",
      "ethnicityHispanic                    0.393     0.484    -0.380    -0.375     0.555  \n",
      "                                    (0.675)   (0.637)   (0.716)   (0.740)   (0.796) \n",
      "                                                                                    \n",
      "ethnicityNative American           -1.491**   -0.438    -0.938    -0.031    -0.680  \n",
      "                                    (0.644)   (0.610)   (0.684)   (0.703)   (0.755) \n",
      "                                                                                    \n",
      "ethnicityPrefer not to answer       2.062**   1.537*    1.495*    1.536*     1.511  \n",
      "                                    (0.821)   (0.779)   (0.873)   (0.897)   (0.962) \n",
      "                                                                                    \n",
      "ethnicityWhite/ Caucasian           -0.171     0.119    -0.187     0.121     0.135  \n",
      "                                    (0.264)   (0.251)   (0.281)   (0.289)   (0.312) \n",
      "                                                                                    \n",
      "educationHigh school                -0.063     0.241     0.152     0.747     0.652  \n",
      "                                    (0.550)   (0.515)   (0.580)   (0.597)   (0.643) \n",
      "                                                                                    \n",
      "educationMaster's or higher degree   0.034    -0.029     0.024     0.057     0.099  \n",
      "                                    (0.200)   (0.190)   (0.214)   (0.219)   (0.235) \n",
      "                                                                                    \n",
      "100,000                              0.120     0.162     0.244    0.407**    0.317  \n",
      "                                    (0.185)   (0.176)   (0.197)   (0.202)   (0.217) \n",
      "                                                                                    \n",
      "25,000                              -0.173     0.036     0.027     0.027    -0.182  \n",
      "                                    (0.240)   (0.228)   (0.254)   (0.260)   (0.279) \n",
      "                                                                                    \n",
      "100,000                              0.474     0.405    -0.063     0.094     0.165  \n",
      "                                    (0.308)   (0.291)   (0.327)   (0.336)   (0.363) \n",
      "                                                                                    \n",
      "intentMonetary incentive             0.280    0.626**    0.448     0.027    -0.002  \n",
      "                                    (0.293)   (0.278)   (0.317)   (0.322)   (0.343) \n",
      "                                                                                    \n",
      "intentOther                          1.252     1.394     0.812     0.586    -0.713  \n",
      "                                    (1.056)   (1.001)   (1.133)   (1.163)   (1.239) \n",
      "                                                                                    \n",
      "mathEnjoyment                        0.009    0.253**    0.040     0.028    -0.003  \n",
      "                                    (0.128)   (0.120)   (0.135)   (0.138)   (0.150) \n",
      "                                                                                    \n",
      "rt_treatMsg                         -0.006    -0.003    -0.005    -0.008    -0.001  \n",
      "                                    (0.005)   (0.005)   (0.005)   (0.005)   (0.006) \n",
      "                                                                                    \n",
      "Constant                           3.800***  2.324***  3.517***  3.384***  3.398*** \n",
      "                                    (0.666)   (0.627)   (0.702)   (0.720)   (0.783) \n",
      "                                                                                    \n",
      "------------------------------------------------------------------------------------\n",
      "Observations                          172       172       172       172       172   \n",
      "R2                                   0.208     0.182     0.195     0.189     0.127  \n",
      "Adjusted R2                          0.126     0.097     0.112     0.105     0.036  \n",
      "Residual Std. Error (df = 155)       1.003     0.951     1.067     1.095     1.175  \n",
      "F Statistic (df = 16; 155)         2.540***  2.153***  2.346***  2.257***    1.405  \n",
      "====================================================================================\n",
      "Note:                                                    *p<0.1; **p<0.05; ***p<0.01\n"
     ]
    }
   ],
   "source": [
    "lm_q1stress = cleanedData[ , lm(stress_q1~treatGroup + q1_score +\n",
    "                          ethnicity + education + income + intent + mathEnjoyment + rt_treatMsg)]\n",
    "lm_q2stress = cleanedData[ , lm(stress_q2~treatGroup + q2_score +\n",
    "                          ethnicity + education + income + intent + mathEnjoyment + rt_treatMsg)]\n",
    "lm_q3stress = cleanedData[ , lm(stress_q3~treatGroup + q3_score +\n",
    "                          ethnicity + education + income + intent + mathEnjoyment + rt_treatMsg)]\n",
    "lm_q4stress = cleanedData[ , lm(stress_q4~treatGroup + q4_score +\n",
    "                          ethnicity + education + income + intent + mathEnjoyment + rt_treatMsg)]\n",
    "lm_q5stress = cleanedData[ , lm(stress_q5~treatGroup + q5_score +\n",
    "                          ethnicity + education + income + intent + mathEnjoyment + rt_treatMsg)]\n",
    "\n",
    "stargazer(lm_q1stress, lm_q2stress, lm_q3stress, lm_q4stress, lm_q5stress, type='text')"
   ]
  },
  {
   "cell_type": "markdown",
   "metadata": {},
   "source": [
    "### Predict whether you will get next puzzle correct or not based on reported stress and confidence level before the question"
   ]
  },
  {
   "cell_type": "code",
   "execution_count": 184,
   "metadata": {},
   "outputs": [
    {
     "name": "stdout",
     "output_type": "stream",
     "text": [
      "\n",
      "=======================================================================\n",
      "                                           Dependent variable:         \n",
      "                                   ------------------------------------\n",
      "                                   q2_score q3_score q4_score  q5_score\n",
      "                                     (1)      (2)       (3)      (4)   \n",
      "-----------------------------------------------------------------------\n",
      "treatGroup                          0.088    0.106    -1.258*  -1.262* \n",
      "                                   (0.122)  (0.762)   (0.656)  (0.736) \n",
      "                                                                       \n",
      "stress_q1                          -0.127**                            \n",
      "                                   (0.059)                             \n",
      "                                                                       \n",
      "confidence_q1                       0.078                              \n",
      "                                   (0.070)                             \n",
      "                                                                       \n",
      "stress_q2                                    0.190                     \n",
      "                                            (0.387)                    \n",
      "                                                                       \n",
      "confidence_q2                                -0.243                    \n",
      "                                            (0.379)                    \n",
      "                                                                       \n",
      "stress_q3                                            -0.847***         \n",
      "                                                      (0.286)          \n",
      "                                                                       \n",
      "confidence_q3                                         0.649*           \n",
      "                                                      (0.341)          \n",
      "                                                                       \n",
      "stress_q4                                                      -0.815**\n",
      "                                                               (0.319) \n",
      "                                                                       \n",
      "confidence_q4                                                   0.684* \n",
      "                                                               (0.379) \n",
      "                                                                       \n",
      "ethnicityAsian                      0.167   3.498**  3.291***  4.914***\n",
      "                                   (0.232)  (1.392)   (1.207)  (1.358) \n",
      "                                                                       \n",
      "ethnicityHispanic                   0.146    2.905     4.250    4.970  \n",
      "                                   (0.517)  (3.133)   (2.740)  (3.086) \n",
      "                                                                       \n",
      "ethnicityNative American            -0.063   -0.038   -2.062    1.181  \n",
      "                                   (0.501)  (2.996)   (2.632)  (2.940) \n",
      "                                                                       \n",
      "ethnicityPrefer not to answer       0.041    1.157     2.591    1.593  \n",
      "                                   (0.638)  (3.863)   (3.377)  (3.790) \n",
      "                                                                       \n",
      "ethnicityWhite/ Caucasian           -0.067   0.699     1.220    1.733  \n",
      "                                   (0.208)  (1.256)   (1.079)  (1.207) \n",
      "                                                                       \n",
      "educationHigh school                -0.050   2.646    -3.636   6.471** \n",
      "                                   (0.416)  (2.525)   (2.209)  (2.575) \n",
      "                                                                       \n",
      "educationMaster's or higher degree  -0.095   0.750     0.178    0.596  \n",
      "                                   (0.154)  (0.949)   (0.816)  (0.916) \n",
      "                                                                       \n",
      "100,000                             0.009    0.475     0.236    0.349  \n",
      "                                   (0.142)  (0.872)   (0.758)  (0.864) \n",
      "                                                                       \n",
      "25,000                              0.269    1.258    -0.814    0.584  \n",
      "                                   (0.184)  (1.106)   (0.969)  (1.088) \n",
      "                                                                       \n",
      "100,000                             0.066    -0.711    0.588    2.147  \n",
      "                                   (0.236)  (1.442)   (1.260)  (1.404) \n",
      "                                                                       \n",
      "intentMonetary incentive            -0.072  3.143**   2.238*    0.430  \n",
      "                                   (0.224)  (1.399)   (1.191)  (1.340) \n",
      "                                                                       \n",
      "intentOther                         0.242    7.491    8.360*    3.572  \n",
      "                                   (0.820)  (5.018)   (4.306)  (4.822) \n",
      "                                                                       \n",
      "mathEnjoyment                       -0.098   0.159    -0.225   -1.130* \n",
      "                                   (0.099)  (0.626)   (0.537)  (0.594) \n",
      "                                                                       \n",
      "rt_treatMsg                         -0.002   0.020    -0.0005   0.031  \n",
      "                                   (0.004)  (0.023)   (0.020)  (0.023) \n",
      "                                                                       \n",
      "Constant                            0.586    0.583     2.591   7.291** \n",
      "                                   (0.593)  (3.289)   (2.926)  (3.303) \n",
      "                                                                       \n",
      "-----------------------------------------------------------------------\n",
      "Observations                         172      172       172      172   \n",
      "R2                                  0.090    0.168     0.192    0.248  \n",
      "Adjusted R2                         -0.010   0.076     0.103    0.165  \n",
      "Residual Std. Error (df = 154)      0.766    4.661     4.081    4.582  \n",
      "F Statistic (df = 17; 154)          0.897   1.824**  2.155***  2.989***\n",
      "=======================================================================\n",
      "Note:                                       *p<0.1; **p<0.05; ***p<0.01\n"
     ]
    }
   ],
   "source": [
    "lm_q1stress = cleanedData[ , lm(q2_score~treatGroup + stress_q1 + confidence_q1 +\n",
    "                          ethnicity + education + income + intent + mathEnjoyment + rt_treatMsg)]\n",
    "lm_q2stress = cleanedData[ , lm(q3_score~treatGroup + stress_q2 + confidence_q2 +\n",
    "                          ethnicity + education + income + intent + mathEnjoyment + rt_treatMsg)]\n",
    "lm_q3stress = cleanedData[ , lm(q4_score~treatGroup + stress_q3 + confidence_q3 +\n",
    "                          ethnicity + education + income + intent + mathEnjoyment + rt_treatMsg)]\n",
    "lm_q4stress = cleanedData[ , lm(q5_score~treatGroup + stress_q4 + confidence_q4 +\n",
    "                          ethnicity + education + income + intent + mathEnjoyment + rt_treatMsg)]\n",
    "\n",
    "stargazer(lm_q1stress, lm_q2stress, lm_q3stress, lm_q4stress, type='text')"
   ]
  },
  {
   "cell_type": "markdown",
   "metadata": {},
   "source": [
    "### Is there an interaction with treatment group (eg. stress_q1*treatGroup)? "
   ]
  },
  {
   "cell_type": "code",
   "execution_count": 185,
   "metadata": {},
   "outputs": [
    {
     "name": "stdout",
     "output_type": "stream",
     "text": [
      "\n",
      "=======================================================================\n",
      "                                           Dependent variable:         \n",
      "                                   ------------------------------------\n",
      "                                   q2_score  q3_score q4_score q5_score\n",
      "                                      (1)      (2)      (3)      (4)   \n",
      "-----------------------------------------------------------------------\n",
      "treatGroup                         1.230***   2.777    -1.256   -0.917 \n",
      "                                    (0.418)  (2.864)  (2.022)  (2.370) \n",
      "                                                                       \n",
      "stress_q1                            0.008                             \n",
      "                                    (0.075)                            \n",
      "                                                                       \n",
      "confidence_q1                        0.079                             \n",
      "                                    (0.068)                            \n",
      "                                                                       \n",
      "stress_q2                                     0.530                    \n",
      "                                             (0.523)                   \n",
      "                                                                       \n",
      "confidence_q2                                 -0.231                   \n",
      "                                             (0.380)                   \n",
      "                                                                       \n",
      "stress_q3                                             -0.847**         \n",
      "                                                      (0.410)          \n",
      "                                                                       \n",
      "confidence_q3                                          0.649*          \n",
      "                                                      (0.342)          \n",
      "                                                                       \n",
      "stress_q4                                                      -0.768* \n",
      "                                                               (0.446) \n",
      "                                                                       \n",
      "confidence_q4                                                   0.678* \n",
      "                                                               (0.382) \n",
      "                                                                       \n",
      "ethnicityAsian                       0.144   3.571**  3.291*** 4.901***\n",
      "                                    (0.227)  (1.394)  (1.212)  (1.365) \n",
      "                                                                       \n",
      "ethnicityHispanic                    0.057    3.021    4.250    5.008  \n",
      "                                    (0.507)  (3.136)  (2.754)  (3.106) \n",
      "                                                                       \n",
      "ethnicityNative American            -0.159    -0.093   -2.062   1.182  \n",
      "                                    (0.491)  (2.997)  (2.641)  (2.950) \n",
      "                                                                       \n",
      "ethnicityPrefer not to answer        0.271    1.687    2.591    1.681  \n",
      "                                    (0.629)  (3.903)  (3.428)  (3.845) \n",
      "                                                                       \n",
      "ethnicityWhite/ Caucasian           -0.106    0.712    1.220    1.714  \n",
      "                                    (0.203)  (1.257)  (1.083)  (1.217) \n",
      "                                                                       \n",
      "educationHigh school                 0.052    2.929    -3.636  6.446** \n",
      "                                    (0.408)  (2.542)  (2.226)  (2.588) \n",
      "                                                                       \n",
      "educationMaster's or higher degree  -0.070    0.865    0.178    0.603  \n",
      "                                    (0.150)  (0.957)  (0.818)  (0.920) \n",
      "                                                                       \n",
      "100,000                             -0.017    0.519    0.236    0.344  \n",
      "                                    (0.139)  (0.874)  (0.760)  (0.868) \n",
      "                                                                       \n",
      "25,000                               0.243    1.129    -0.814   0.575  \n",
      "                                    (0.180)  (1.115)  (0.973)  (1.093) \n",
      "                                                                       \n",
      "100,000                             -0.043    -0.764   0.588    2.128  \n",
      "                                    (0.234)  (1.444)  (1.267)  (1.414) \n",
      "                                                                       \n",
      "intentMonetary incentive            -0.043   3.190**   2.238*   0.471  \n",
      "                                    (0.219)  (1.400)  (1.221)  (1.370) \n",
      "                                                                       \n",
      "intentOther                          0.669    8.250    8.360*   3.585  \n",
      "                                    (0.815)  (5.080)  (4.321)  (4.838) \n",
      "                                                                       \n",
      "mathEnjoyment                       -0.086    0.236    -0.225  -1.121* \n",
      "                                    (0.097)  (0.632)  (0.538)  (0.599) \n",
      "                                                                       \n",
      "rt_treatMsg                         -0.003    0.018   -0.0005   0.031  \n",
      "                                    (0.004)  (0.024)  (0.021)  (0.023) \n",
      "                                                                       \n",
      "treatGroup:stress_q1               -0.327***                           \n",
      "                                    (0.115)                            \n",
      "                                                                       \n",
      "treatGroup:stress_q2                          -0.734                   \n",
      "                                             (0.759)                   \n",
      "                                                                       \n",
      "treatGroup:stress_q3                                   -0.001          \n",
      "                                                      (0.582)          \n",
      "                                                                       \n",
      "treatGroup:stress_q4                                            -0.099 \n",
      "                                                               (0.649) \n",
      "                                                                       \n",
      "Constant                             0.110    -1.099   2.590   7.124** \n",
      "                                    (0.603)  (3.721)  (3.087)  (3.489) \n",
      "                                                                       \n",
      "-----------------------------------------------------------------------\n",
      "Observations                          172      172      172      172   \n",
      "R2                                   0.136    0.173    0.192    0.248  \n",
      "Adjusted R2                          0.034    0.075    0.097    0.160  \n",
      "Residual Std. Error (df = 153)       0.749    4.662    4.094    4.596  \n",
      "F Statistic (df = 18; 153)           1.337   1.774**  2.022**  2.807***\n",
      "=======================================================================\n",
      "Note:                                       *p<0.1; **p<0.05; ***p<0.01\n"
     ]
    }
   ],
   "source": [
    "lm_q1stress = cleanedData[ , lm(q2_score~treatGroup + stress_q1 + confidence_q1 + stress_q1*treatGroup +\n",
    "                          ethnicity + education + income + intent + mathEnjoyment + rt_treatMsg)]\n",
    "lm_q2stress = cleanedData[ , lm(q3_score~treatGroup + stress_q2 + confidence_q2 + stress_q2*treatGroup +\n",
    "                          ethnicity + education + income + intent + mathEnjoyment + rt_treatMsg)]\n",
    "lm_q3stress = cleanedData[ , lm(q4_score~treatGroup + stress_q3 + confidence_q3 + stress_q3*treatGroup +\n",
    "                          ethnicity + education + income + intent + mathEnjoyment + rt_treatMsg)]\n",
    "lm_q4stress = cleanedData[ , lm(q5_score~treatGroup + stress_q4 + confidence_q4 + stress_q4*treatGroup +\n",
    "                          ethnicity + education + income + intent + mathEnjoyment + rt_treatMsg)]\n",
    "\n",
    "stargazer(lm_q1stress, lm_q2stress, lm_q3stress, lm_q4stress, type='text')"
   ]
  },
  {
   "cell_type": "markdown",
   "metadata": {},
   "source": [
    "# EDA"
   ]
  },
  {
   "cell_type": "code",
   "execution_count": null,
   "metadata": {},
   "outputs": [],
   "source": [
    "# checking duplicate lat/longs\n",
    "\n",
    "cleanedData[, latLong:=paste(LocationLatitude, LocationLongitude, sep='  ')]\n",
    "data.table(table(cleanedData[, latLong]))[N > 1, ]\n",
    "length(unique(cleanedData[, latLong]))"
   ]
  },
  {
   "cell_type": "markdown",
   "metadata": {},
   "source": [
    "### Are stress and confidence levels different between puzzles?"
   ]
  },
  {
   "cell_type": "code",
   "execution_count": 163,
   "metadata": {},
   "outputs": [
    {
     "data": {
      "text/plain": [
       "\n",
       "\tKruskal-Wallis rank sum test\n",
       "\n",
       "data:  value by key\n",
       "Kruskal-Wallis chi-squared = 14.273, df = 4, p-value = 0.006473\n"
      ]
     },
     "metadata": {},
     "output_type": "display_data"
    },
    {
     "data": {
      "text/plain": [
       "\n",
       "\tPairwise comparisons using Wilcoxon rank sum test \n",
       "\n",
       "data:  stressData[, value] and stressData[, key] \n",
       "\n",
       "  1     2     3     4    \n",
       "2 0.442 -     -     -    \n",
       "3 0.120 0.020 -     -    \n",
       "4 0.695 0.253 0.253 -    \n",
       "5 0.071 0.015 0.695 0.160\n",
       "\n",
       "P value adjustment method: BH "
      ]
     },
     "metadata": {},
     "output_type": "display_data"
    }
   ],
   "source": [
    "stressData = data.table(gather(cleanedData[, c('stress_q1', 'stress_q2', 'stress_q3', 'stress_q4', 'stress_q5')]))\n",
    "stressData[, key:=sapply(stressData[, key], function(inputStr) as.numeric(tail(unlist(strsplit(inputStr, split = \"\")), 1)))]\n",
    "                         \n",
    "kruskal.test(value ~ key, data=stressData)\n",
    "pairwise.wilcox.test(stressData[, value], stressData[, key], p.adjust.method='BH')"
   ]
  },
  {
   "cell_type": "code",
   "execution_count": 164,
   "metadata": {},
   "outputs": [
    {
     "data": {
      "text/plain": [
       "\n",
       "\tKruskal-Wallis rank sum test\n",
       "\n",
       "data:  value by key\n",
       "Kruskal-Wallis chi-squared = 11.74, df = 4, p-value = 0.0194\n"
      ]
     },
     "metadata": {},
     "output_type": "display_data"
    },
    {
     "data": {
      "text/plain": [
       "\n",
       "\tPairwise comparisons using Wilcoxon rank sum test \n",
       "\n",
       "data:  confidenceData[, value] and confidenceData[, key] \n",
       "\n",
       "  1     2     3     4    \n",
       "2 0.023 -     -     -    \n",
       "3 0.608 0.133 -     -    \n",
       "4 0.882 0.032 0.706 -    \n",
       "5 0.882 0.023 0.608 0.872\n",
       "\n",
       "P value adjustment method: BH "
      ]
     },
     "metadata": {},
     "output_type": "display_data"
    }
   ],
   "source": [
    "confidenceData = data.table(gather(cleanedData[, c('confidence_q1', 'confidence_q2', 'confidence_q3', 'confidence_q4', 'confidence_q5')]))\n",
    "confidenceData[, key:=sapply(confidenceData[, key], function(inputStr) as.numeric(tail(unlist(strsplit(inputStr, split = \"\")), 1)))]\n",
    "                         \n",
    "kruskal.test(value ~ key, data=confidenceData)\n",
    "pairwise.wilcox.test(confidenceData[, value], confidenceData[, key], p.adjust.method='BH')"
   ]
  },
  {
   "cell_type": "code",
   "execution_count": 113,
   "metadata": {
    "scrolled": false
   },
   "outputs": [
    {
     "data": {
      "image/png": "[encoded data removed]",
      "text/plain": [
       "plot without title"
      ]
     },
     "metadata": {},
     "output_type": "display_data"
    }
   ],
   "source": [
    "colsToPlot = c('gender', 'age', 'ethnicity', 'education', 'income', 'intent', 'mathEnjoyment',\n",
    "                'postq_playedBefore', 'postq_enjoy', 'postq_difficulty', 'postq_focus', 'postq_pressure',\n",
    "                'postq_impact'\n",
    "               )\n",
    "\n",
    "options(repr.plot.width=8, repr.plot.height=15)\n",
    "\n",
    "ggplot(gather(cleanedData[, ..colsToPlot]), aes(value)) + \n",
    "    geom_bar() +\n",
    "    facet_wrap(~key, scales = 'free_x') +\n",
    "    theme(axis.text.x=element_text(angle=45,hjust=1, size=12))"
   ]
  },
  {
   "cell_type": "code",
   "execution_count": 164,
   "metadata": {},
   "outputs": [
    {
     "data": {
      "image/png": "[encoded data removed]",
      "text/plain": [
       "plot without title"
      ]
     },
     "metadata": {},
     "output_type": "display_data"
    }
   ],
   "source": [
    "# histogram of all columns\n",
    "\n",
    "options(repr.plot.width=10, repr.plot.height=10)\n",
    "\n",
    "colsToPlot = c('rt_intro', 'cc_intro',\n",
    "                'rt_instructions', 'cc_instructions',\n",
    "                'rt_prac1', 'cc_prac1',\n",
    "                'rt_prac2', 'cc_prac2',\n",
    "                'rt_treatMsg', 'cc_treatMsg',\n",
    "                'rt_q1', 'rt_questions_q1', 'stress_q1', 'confidence_q1',\n",
    "                'rt_q2', 'rt_questions_q2', 'stress_q2', 'confidence_q2',\n",
    "                'rt_q3', 'rt_questions_q3', 'stress_q3', 'confidence_q3',\n",
    "                'rt_q4', 'rt_questions_q4', 'stress_q4', 'confidence_q4',\n",
    "                'rt_q5', 'rt_questions_q5', 'stress_q5', 'confidence_q5',\n",
    "                'q1_score', 'q2_score', 'q3_score', 'q4_score', 'q5_score', 'final_score'\n",
    "               )\n",
    "dataToPlot = data.table(sapply(cleanedData[, ..colsToPlot], as.numeric))\n",
    "\n",
    "ggplot(gather(a), aes(x=key,y=value)) + \n",
    "    geom_violin() + \n",
    "    geom_jitter(position=position_jitter(0.2), alpha=0.1) +\n",
    "    facet_wrap(~key, scales = 'free') "
   ]
  },
  {
   "cell_type": "code",
   "execution_count": 100,
   "metadata": {},
   "outputs": [
    {
     "data": {
      "image/png": "[encoded data removed]",
      "text/plain": [
       "plot without title"
      ]
     },
     "metadata": {},
     "output_type": "display_data"
    }
   ],
   "source": [
    "# histogram of all columns\n",
    "\n",
    "options(repr.plot.width=8, repr.plot.height=8)\n",
    "\n",
    "colsToPlot = c('rt_intro',\n",
    "                'rt_instructions',\n",
    "                'rt_prac1',\n",
    "                'rt_prac2',\n",
    "                'rt_treatMsg',\n",
    "                'rt_q1', 'rt_questions_q1', 'stress_q1', 'confidence_q1',\n",
    "                'rt_q2', 'rt_questions_q2', 'stress_q2', 'confidence_q2',\n",
    "                'rt_q3', 'rt_questions_q3', 'stress_q3', 'confidence_q3',\n",
    "                'rt_q4', 'rt_questions_q4', 'stress_q4', 'confidence_q4',\n",
    "                'rt_q5', 'rt_questions_q5', 'stress_q5', 'confidence_q5',\n",
    "                'q1_score', 'q2_score', 'q3_score', 'q4_score', 'q5_score', 'final_score', 'postq_pressure'\n",
    "               )\n",
    "dataToPlot = data.table(sapply(cleanedData[, ..colsToPlot], as.numeric))\n",
    "\n",
    "ggplot(gather(dataToPlot), aes(value)) + \n",
    "    geom_histogram(bins = 10) + \n",
    "    facet_wrap(~key, scales = 'free_x') +\n",
    "    theme(plot.title=element_text(size=12))"
   ]
  }
 ],
 "metadata": {
  "kernelspec": {
   "display_name": "R",
   "language": "R",
   "name": "ir"
  },
  "language_info": {
   "codemirror_mode": "r",
   "file_extension": ".r",
   "mimetype": "text/x-r-source",
   "name": "R",
   "pygments_lexer": "r",
   "version": "3.6.1"
  }
 },
 "nbformat": 4,
 "nbformat_minor": 4
}
